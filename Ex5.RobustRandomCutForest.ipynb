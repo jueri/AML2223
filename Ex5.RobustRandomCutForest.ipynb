{
 "cells": [
  {
   "cell_type": "markdown",
   "metadata": {},
   "source": [
    "<img src=\"https://www.th-koeln.de/img/logo.svg\" style=\"float:right;\" width=\"200\">"
   ]
  },
  {
   "cell_type": "markdown",
   "metadata": {},
   "source": [
    "# 5th exercise: <font color=\"#C70039\">Work with Robust Random Cut Forest (RRCF) algorithms for anomaly detection</font>\n",
    "* Course: AML\n",
    "* Lecturer: <a href=\"https://www.gernotheisenberg.de/\">Gernot Heisenberg</a>\n",
    "* Author of notebook: <a href=\"https://www.gernotheisenberg.de/\">Gernot Heisenberg</a>\n",
    "* Date:   30.10.2022\n",
    "* Studend Name: Jüri Keller\n",
    "* Studend matriculation number: 11133325\n",
    "\n",
    "<img src=\"https://docs.aws.amazon.com/sagemaker/latest/dg/images/RCF2.jpg\" style=\"float: center;\" width=\"450\">\n",
    "\n",
    "---------------------------------\n",
    "**GENERAL NOTE 1**: \n",
    "Please make sure you are reading the entire notebook, since it contains a lot of information on your tasks (e.g. regarding the set of certain paramaters or a specific computational trick), and the written mark downs as well as comments contain a lot of information on how things work together as a whole. \n",
    "\n",
    "**GENERAL NOTE 2**: \n",
    "* Please, when commenting source code, just use English language only. \n",
    "* When describing an observation please use English language, too.\n",
    "* This applies to all exercises throughout this course.\n",
    "\n",
    "* <font color=red>Install the RRCF package per pip:_$ pip install rrcf_</font>\n",
    "\n",
    "The codes of this exercise is based on the codebase of the following team:\n",
    "\n",
    "_M. Bartos, A. Mullapudi, & S. Troutman, rrcf: Implementation of the Robust Random Cut Forest algorithm for anomaly detection on streams , in: Journal of Open Source Software, The Open Journal, Volume 4, Number 35. 2019_\n",
    "\n",
    "---------------------\n",
    "\n",
    "### <font color=\"ce33ff\">DESCRIPTION</font>:\n",
    "This notebook allows you for learning Amazon's Robust Random Cut Forest algorithm and its implementation for detecting anomalies. The Robust Random Cut Forest Algorithm for anomaly detection was invented by Guha et al. in 2016. Further reading can be found here (&rarr; <a href=\"http://proceedings.mlr.press/v48/guha16.pdf\">paper</a>):\n",
    "\n",
    "_S. Guha, N. Mishra, G. Roy, & O. Schrijvers, Robust random cut forest based anomaly detection on streams, in Proceedings of the 33rd International conference on machine learning, New York, NY, 2016 (pp. 2712-2721)_.\n",
    "\n",
    "-------------------------------------------------------------------------------------------------------------\n",
    "\n",
    "### <font color=\"FFC300\">TASKS</font>:\n",
    "The tasks that you need to work on within this notebook are always indicated below as bullet points. \n",
    "If a task is more challenging and consists of several steps, this is indicated as well. \n",
    "Make sure you have worked down the task list and commented your doings. \n",
    "This should be done by using markdown.<br> \n",
    "<font color=red>Make sure you don't forget to specify your name and your matriculation number in the notebook.</font>\n",
    "\n",
    "**YOUR TASKS in this exercise are as follows**:\n",
    "1. import the notebook to Google Colab or use your local machine.\n",
    "2. make sure you specified you name and your matriculation number in the header below my name and date. \n",
    "    * set the date too and remove mine.\n",
    "3. read the entire notebook carefully \n",
    "    * add comments whereever you feel it necessary for better understanding\n",
    "    * run the notebook for the first time. \n",
    "4. take the three data sets from exercize 1 and apply the RRCF to them.\n",
    "5. interpret the results in writing.\n",
    "-----------------------------------------------------------------------------------"
   ]
  },
  {
   "cell_type": "markdown",
   "metadata": {},
   "source": [
    "### Robust random cut trees (part I)\n",
    "A RRCT can be instantiated from a point set. Points can also be added and removed from an RRCT."
   ]
  },
  {
   "cell_type": "code",
   "execution_count": 6,
   "metadata": {},
   "outputs": [],
   "source": [
    "import numpy as np\n",
    "import rrcf"
   ]
  },
  {
   "cell_type": "markdown",
   "metadata": {},
   "source": [
    "#### A (robust) random cut tree can be instantiated from a point set (n x d)"
   ]
  },
  {
   "cell_type": "code",
   "execution_count": 9,
   "metadata": {},
   "outputs": [
    {
     "ename": "AttributeError",
     "evalue": "module 'numpy' has no attribute 'asscalar'",
     "output_type": "error",
     "traceback": [
      "\u001b[0;31m---------------------------------------------------------------------------\u001b[0m",
      "\u001b[0;31mAttributeError\u001b[0m                            Traceback (most recent call last)",
      "Cell \u001b[0;32mIn [9], line 2\u001b[0m\n\u001b[1;32m      1\u001b[0m X \u001b[39m=\u001b[39m np\u001b[39m.\u001b[39mrandom\u001b[39m.\u001b[39mrandn(\u001b[39m30\u001b[39m, \u001b[39m2\u001b[39m)\n\u001b[0;32m----> 2\u001b[0m tree \u001b[39m=\u001b[39m rrcf\u001b[39m.\u001b[39;49mRCTree(X)\n\u001b[1;32m      4\u001b[0m \u001b[39mprint\u001b[39m(tree)\n",
      "File \u001b[0;32m~/sciebo/TH/AML2022-Advanced_machine_learning/code/.condaenv/lib/python3.10/site-packages/rrcf/rrcf.py:106\u001b[0m, in \u001b[0;36mRCTree.__init__\u001b[0;34m(self, X, index_labels, precision, random_state)\u001b[0m\n\u001b[1;32m    104\u001b[0m \u001b[39m# Create RRC Tree\u001b[39;00m\n\u001b[1;32m    105\u001b[0m S \u001b[39m=\u001b[39m np\u001b[39m.\u001b[39mones(n, dtype\u001b[39m=\u001b[39mnp\u001b[39m.\u001b[39mbool)\n\u001b[0;32m--> 106\u001b[0m \u001b[39mself\u001b[39;49m\u001b[39m.\u001b[39;49m_mktree(X, S, N, I, parent\u001b[39m=\u001b[39;49m\u001b[39mself\u001b[39;49m)\n\u001b[1;32m    107\u001b[0m \u001b[39m# Remove parent of root\u001b[39;00m\n\u001b[1;32m    108\u001b[0m \u001b[39mself\u001b[39m\u001b[39m.\u001b[39mroot\u001b[39m.\u001b[39mu \u001b[39m=\u001b[39m \u001b[39mNone\u001b[39;00m\n",
      "File \u001b[0;32m~/sciebo/TH/AML2022-Advanced_machine_learning/code/.condaenv/lib/python3.10/site-packages/rrcf/rrcf.py:176\u001b[0m, in \u001b[0;36mRCTree._mktree\u001b[0;34m(self, X, S, N, I, parent, side, depth)\u001b[0m\n\u001b[1;32m    173\u001b[0m \u001b[39m# If S1 does not contain an isolated point...\u001b[39;00m\n\u001b[1;32m    174\u001b[0m \u001b[39mif\u001b[39;00m S1\u001b[39m.\u001b[39msum() \u001b[39m>\u001b[39m \u001b[39m1\u001b[39m:\n\u001b[1;32m    175\u001b[0m     \u001b[39m# Recursively construct tree on S1\u001b[39;00m\n\u001b[0;32m--> 176\u001b[0m     \u001b[39mself\u001b[39;49m\u001b[39m.\u001b[39;49m_mktree(X, S1, N, I, parent\u001b[39m=\u001b[39;49mbranch, side\u001b[39m=\u001b[39;49m\u001b[39m'\u001b[39;49m\u001b[39ml\u001b[39;49m\u001b[39m'\u001b[39;49m, depth\u001b[39m=\u001b[39;49mdepth)\n\u001b[1;32m    177\u001b[0m \u001b[39m# Otherwise...\u001b[39;00m\n\u001b[1;32m    178\u001b[0m \u001b[39melse\u001b[39;00m:\n\u001b[1;32m    179\u001b[0m     \u001b[39m# Create a leaf node from isolated point\u001b[39;00m\n\u001b[1;32m    180\u001b[0m     i \u001b[39m=\u001b[39m np\u001b[39m.\u001b[39masscalar(np\u001b[39m.\u001b[39mflatnonzero(S1))\n",
      "File \u001b[0;32m~/sciebo/TH/AML2022-Advanced_machine_learning/code/.condaenv/lib/python3.10/site-packages/rrcf/rrcf.py:176\u001b[0m, in \u001b[0;36mRCTree._mktree\u001b[0;34m(self, X, S, N, I, parent, side, depth)\u001b[0m\n\u001b[1;32m    173\u001b[0m \u001b[39m# If S1 does not contain an isolated point...\u001b[39;00m\n\u001b[1;32m    174\u001b[0m \u001b[39mif\u001b[39;00m S1\u001b[39m.\u001b[39msum() \u001b[39m>\u001b[39m \u001b[39m1\u001b[39m:\n\u001b[1;32m    175\u001b[0m     \u001b[39m# Recursively construct tree on S1\u001b[39;00m\n\u001b[0;32m--> 176\u001b[0m     \u001b[39mself\u001b[39;49m\u001b[39m.\u001b[39;49m_mktree(X, S1, N, I, parent\u001b[39m=\u001b[39;49mbranch, side\u001b[39m=\u001b[39;49m\u001b[39m'\u001b[39;49m\u001b[39ml\u001b[39;49m\u001b[39m'\u001b[39;49m, depth\u001b[39m=\u001b[39;49mdepth)\n\u001b[1;32m    177\u001b[0m \u001b[39m# Otherwise...\u001b[39;00m\n\u001b[1;32m    178\u001b[0m \u001b[39melse\u001b[39;00m:\n\u001b[1;32m    179\u001b[0m     \u001b[39m# Create a leaf node from isolated point\u001b[39;00m\n\u001b[1;32m    180\u001b[0m     i \u001b[39m=\u001b[39m np\u001b[39m.\u001b[39masscalar(np\u001b[39m.\u001b[39mflatnonzero(S1))\n",
      "    \u001b[0;31m[... skipping similar frames: RCTree._mktree at line 176 (3 times)]\u001b[0m\n",
      "File \u001b[0;32m~/sciebo/TH/AML2022-Advanced_machine_learning/code/.condaenv/lib/python3.10/site-packages/rrcf/rrcf.py:176\u001b[0m, in \u001b[0;36mRCTree._mktree\u001b[0;34m(self, X, S, N, I, parent, side, depth)\u001b[0m\n\u001b[1;32m    173\u001b[0m \u001b[39m# If S1 does not contain an isolated point...\u001b[39;00m\n\u001b[1;32m    174\u001b[0m \u001b[39mif\u001b[39;00m S1\u001b[39m.\u001b[39msum() \u001b[39m>\u001b[39m \u001b[39m1\u001b[39m:\n\u001b[1;32m    175\u001b[0m     \u001b[39m# Recursively construct tree on S1\u001b[39;00m\n\u001b[0;32m--> 176\u001b[0m     \u001b[39mself\u001b[39;49m\u001b[39m.\u001b[39;49m_mktree(X, S1, N, I, parent\u001b[39m=\u001b[39;49mbranch, side\u001b[39m=\u001b[39;49m\u001b[39m'\u001b[39;49m\u001b[39ml\u001b[39;49m\u001b[39m'\u001b[39;49m, depth\u001b[39m=\u001b[39;49mdepth)\n\u001b[1;32m    177\u001b[0m \u001b[39m# Otherwise...\u001b[39;00m\n\u001b[1;32m    178\u001b[0m \u001b[39melse\u001b[39;00m:\n\u001b[1;32m    179\u001b[0m     \u001b[39m# Create a leaf node from isolated point\u001b[39;00m\n\u001b[1;32m    180\u001b[0m     i \u001b[39m=\u001b[39m np\u001b[39m.\u001b[39masscalar(np\u001b[39m.\u001b[39mflatnonzero(S1))\n",
      "File \u001b[0;32m~/sciebo/TH/AML2022-Advanced_machine_learning/code/.condaenv/lib/python3.10/site-packages/rrcf/rrcf.py:180\u001b[0m, in \u001b[0;36mRCTree._mktree\u001b[0;34m(self, X, S, N, I, parent, side, depth)\u001b[0m\n\u001b[1;32m    176\u001b[0m     \u001b[39mself\u001b[39m\u001b[39m.\u001b[39m_mktree(X, S1, N, I, parent\u001b[39m=\u001b[39mbranch, side\u001b[39m=\u001b[39m\u001b[39m'\u001b[39m\u001b[39ml\u001b[39m\u001b[39m'\u001b[39m, depth\u001b[39m=\u001b[39mdepth)\n\u001b[1;32m    177\u001b[0m \u001b[39m# Otherwise...\u001b[39;00m\n\u001b[1;32m    178\u001b[0m \u001b[39melse\u001b[39;00m:\n\u001b[1;32m    179\u001b[0m     \u001b[39m# Create a leaf node from isolated point\u001b[39;00m\n\u001b[0;32m--> 180\u001b[0m     i \u001b[39m=\u001b[39m np\u001b[39m.\u001b[39;49masscalar(np\u001b[39m.\u001b[39mflatnonzero(S1))\n\u001b[1;32m    181\u001b[0m     leaf \u001b[39m=\u001b[39m Leaf(i\u001b[39m=\u001b[39mi, d\u001b[39m=\u001b[39mdepth, u\u001b[39m=\u001b[39mbranch, x\u001b[39m=\u001b[39mX[i, :], n\u001b[39m=\u001b[39mN[i])\n\u001b[1;32m    182\u001b[0m     \u001b[39m# Link leaf node to parent\u001b[39;00m\n",
      "File \u001b[0;32m~/sciebo/TH/AML2022-Advanced_machine_learning/code/.condaenv/lib/python3.10/site-packages/numpy/__init__.py:311\u001b[0m, in \u001b[0;36m__getattr__\u001b[0;34m(attr)\u001b[0m\n\u001b[1;32m    308\u001b[0m     \u001b[39mfrom\u001b[39;00m \u001b[39m.\u001b[39;00m\u001b[39mtesting\u001b[39;00m \u001b[39mimport\u001b[39;00m Tester\n\u001b[1;32m    309\u001b[0m     \u001b[39mreturn\u001b[39;00m Tester\n\u001b[0;32m--> 311\u001b[0m \u001b[39mraise\u001b[39;00m \u001b[39mAttributeError\u001b[39;00m(\u001b[39m\"\u001b[39m\u001b[39mmodule \u001b[39m\u001b[39m{!r}\u001b[39;00m\u001b[39m has no attribute \u001b[39m\u001b[39m\"\u001b[39m\n\u001b[1;32m    312\u001b[0m                      \u001b[39m\"\u001b[39m\u001b[39m{!r}\u001b[39;00m\u001b[39m\"\u001b[39m\u001b[39m.\u001b[39mformat(\u001b[39m__name__\u001b[39m, attr))\n",
      "\u001b[0;31mAttributeError\u001b[0m: module 'numpy' has no attribute 'asscalar'"
     ]
    }
   ],
   "source": [
    "X = np.random.randn(30, 2)\n",
    "tree = rrcf.RCTree(X)\n",
    "\n",
    "print(tree)"
   ]
  },
  {
   "cell_type": "markdown",
   "metadata": {},
   "source": [
    "#### A random cut tree can also be instantiated with no points.\n",
    "The points can be inserted and removed afterwards."
   ]
  },
  {
   "cell_type": "code",
   "execution_count": 8,
   "metadata": {},
   "outputs": [
    {
     "name": "stdout",
     "output_type": "stream",
     "text": [
      "─+\n",
      " ├───+\n",
      " │   ├──(4)\n",
      " │   └──(3)\n",
      " └───+\n",
      "     ├───+\n",
      "     │   ├──(1)\n",
      "     │   └───+\n",
      "     │       ├──(2)\n",
      "     │       └──(5)\n",
      "     └──(0)\n",
      "\n",
      "─+\n",
      " ├───+\n",
      " │   ├──(4)\n",
      " │   └──(3)\n",
      " └───+\n",
      "     ├───+\n",
      "     │   ├──(1)\n",
      "     │   └──(5)\n",
      "     └──(0)\n",
      "\n"
     ]
    }
   ],
   "source": [
    "tree = rrcf.RCTree()\n",
    "\n",
    "#Inserting points at index i\n",
    "for i in range(6):\n",
    "    x = np.random.randn(2)\n",
    "    #print(\"x=\",x)\n",
    "    tree.insert_point(x, index=i)\n",
    "\n",
    "print(tree)\n",
    "\n",
    "#Deleting points at index i \n",
    "tree.forget_point(2)\n",
    "\n",
    "print(tree)"
   ]
  },
  {
   "cell_type": "markdown",
   "metadata": {},
   "source": [
    "### Robust random cut trees (part II)\n",
    "#### Anomaly score\n",
    "The likelihood that a point is an outlier is measured by the so-called <font color=red>collusive displacement (CoDisp)</font> score: if including a new point significantly changes the model's complexity (i.e. bit depth), then that point is more likely to be an outlier."
   ]
  },
  {
   "cell_type": "code",
   "execution_count": 10,
   "metadata": {},
   "outputs": [
    {
     "ename": "AttributeError",
     "evalue": "module 'numpy' has no attribute 'asscalar'",
     "output_type": "error",
     "traceback": [
      "\u001b[0;31m---------------------------------------------------------------------------\u001b[0m",
      "\u001b[0;31mAttributeError\u001b[0m                            Traceback (most recent call last)",
      "Cell \u001b[0;32mIn [10], line 3\u001b[0m\n\u001b[1;32m      1\u001b[0m \u001b[39m# Seed the tree with zero-mean, and hence normally distributed data points\u001b[39;00m\n\u001b[1;32m      2\u001b[0m X \u001b[39m=\u001b[39m np\u001b[39m.\u001b[39mrandom\u001b[39m.\u001b[39mrandn(\u001b[39m100\u001b[39m,\u001b[39m2\u001b[39m)\n\u001b[0;32m----> 3\u001b[0m tree \u001b[39m=\u001b[39m rrcf\u001b[39m.\u001b[39;49mRCTree(X)\n\u001b[1;32m      5\u001b[0m \u001b[39m# Generate one inlier and one outlier point\u001b[39;00m\n\u001b[1;32m      6\u001b[0m inlier \u001b[39m=\u001b[39m np\u001b[39m.\u001b[39marray([\u001b[39m0\u001b[39m, \u001b[39m0\u001b[39m])\n",
      "File \u001b[0;32m~/sciebo/TH/AML2022-Advanced_machine_learning/code/.condaenv/lib/python3.10/site-packages/rrcf/rrcf.py:106\u001b[0m, in \u001b[0;36mRCTree.__init__\u001b[0;34m(self, X, index_labels, precision, random_state)\u001b[0m\n\u001b[1;32m    104\u001b[0m \u001b[39m# Create RRC Tree\u001b[39;00m\n\u001b[1;32m    105\u001b[0m S \u001b[39m=\u001b[39m np\u001b[39m.\u001b[39mones(n, dtype\u001b[39m=\u001b[39mnp\u001b[39m.\u001b[39mbool)\n\u001b[0;32m--> 106\u001b[0m \u001b[39mself\u001b[39;49m\u001b[39m.\u001b[39;49m_mktree(X, S, N, I, parent\u001b[39m=\u001b[39;49m\u001b[39mself\u001b[39;49m)\n\u001b[1;32m    107\u001b[0m \u001b[39m# Remove parent of root\u001b[39;00m\n\u001b[1;32m    108\u001b[0m \u001b[39mself\u001b[39m\u001b[39m.\u001b[39mroot\u001b[39m.\u001b[39mu \u001b[39m=\u001b[39m \u001b[39mNone\u001b[39;00m\n",
      "File \u001b[0;32m~/sciebo/TH/AML2022-Advanced_machine_learning/code/.condaenv/lib/python3.10/site-packages/rrcf/rrcf.py:176\u001b[0m, in \u001b[0;36mRCTree._mktree\u001b[0;34m(self, X, S, N, I, parent, side, depth)\u001b[0m\n\u001b[1;32m    173\u001b[0m \u001b[39m# If S1 does not contain an isolated point...\u001b[39;00m\n\u001b[1;32m    174\u001b[0m \u001b[39mif\u001b[39;00m S1\u001b[39m.\u001b[39msum() \u001b[39m>\u001b[39m \u001b[39m1\u001b[39m:\n\u001b[1;32m    175\u001b[0m     \u001b[39m# Recursively construct tree on S1\u001b[39;00m\n\u001b[0;32m--> 176\u001b[0m     \u001b[39mself\u001b[39;49m\u001b[39m.\u001b[39;49m_mktree(X, S1, N, I, parent\u001b[39m=\u001b[39;49mbranch, side\u001b[39m=\u001b[39;49m\u001b[39m'\u001b[39;49m\u001b[39ml\u001b[39;49m\u001b[39m'\u001b[39;49m, depth\u001b[39m=\u001b[39;49mdepth)\n\u001b[1;32m    177\u001b[0m \u001b[39m# Otherwise...\u001b[39;00m\n\u001b[1;32m    178\u001b[0m \u001b[39melse\u001b[39;00m:\n\u001b[1;32m    179\u001b[0m     \u001b[39m# Create a leaf node from isolated point\u001b[39;00m\n\u001b[1;32m    180\u001b[0m     i \u001b[39m=\u001b[39m np\u001b[39m.\u001b[39masscalar(np\u001b[39m.\u001b[39mflatnonzero(S1))\n",
      "File \u001b[0;32m~/sciebo/TH/AML2022-Advanced_machine_learning/code/.condaenv/lib/python3.10/site-packages/rrcf/rrcf.py:176\u001b[0m, in \u001b[0;36mRCTree._mktree\u001b[0;34m(self, X, S, N, I, parent, side, depth)\u001b[0m\n\u001b[1;32m    173\u001b[0m \u001b[39m# If S1 does not contain an isolated point...\u001b[39;00m\n\u001b[1;32m    174\u001b[0m \u001b[39mif\u001b[39;00m S1\u001b[39m.\u001b[39msum() \u001b[39m>\u001b[39m \u001b[39m1\u001b[39m:\n\u001b[1;32m    175\u001b[0m     \u001b[39m# Recursively construct tree on S1\u001b[39;00m\n\u001b[0;32m--> 176\u001b[0m     \u001b[39mself\u001b[39;49m\u001b[39m.\u001b[39;49m_mktree(X, S1, N, I, parent\u001b[39m=\u001b[39;49mbranch, side\u001b[39m=\u001b[39;49m\u001b[39m'\u001b[39;49m\u001b[39ml\u001b[39;49m\u001b[39m'\u001b[39;49m, depth\u001b[39m=\u001b[39;49mdepth)\n\u001b[1;32m    177\u001b[0m \u001b[39m# Otherwise...\u001b[39;00m\n\u001b[1;32m    178\u001b[0m \u001b[39melse\u001b[39;00m:\n\u001b[1;32m    179\u001b[0m     \u001b[39m# Create a leaf node from isolated point\u001b[39;00m\n\u001b[1;32m    180\u001b[0m     i \u001b[39m=\u001b[39m np\u001b[39m.\u001b[39masscalar(np\u001b[39m.\u001b[39mflatnonzero(S1))\n",
      "File \u001b[0;32m~/sciebo/TH/AML2022-Advanced_machine_learning/code/.condaenv/lib/python3.10/site-packages/rrcf/rrcf.py:176\u001b[0m, in \u001b[0;36mRCTree._mktree\u001b[0;34m(self, X, S, N, I, parent, side, depth)\u001b[0m\n\u001b[1;32m    173\u001b[0m \u001b[39m# If S1 does not contain an isolated point...\u001b[39;00m\n\u001b[1;32m    174\u001b[0m \u001b[39mif\u001b[39;00m S1\u001b[39m.\u001b[39msum() \u001b[39m>\u001b[39m \u001b[39m1\u001b[39m:\n\u001b[1;32m    175\u001b[0m     \u001b[39m# Recursively construct tree on S1\u001b[39;00m\n\u001b[0;32m--> 176\u001b[0m     \u001b[39mself\u001b[39;49m\u001b[39m.\u001b[39;49m_mktree(X, S1, N, I, parent\u001b[39m=\u001b[39;49mbranch, side\u001b[39m=\u001b[39;49m\u001b[39m'\u001b[39;49m\u001b[39ml\u001b[39;49m\u001b[39m'\u001b[39;49m, depth\u001b[39m=\u001b[39;49mdepth)\n\u001b[1;32m    177\u001b[0m \u001b[39m# Otherwise...\u001b[39;00m\n\u001b[1;32m    178\u001b[0m \u001b[39melse\u001b[39;00m:\n\u001b[1;32m    179\u001b[0m     \u001b[39m# Create a leaf node from isolated point\u001b[39;00m\n\u001b[1;32m    180\u001b[0m     i \u001b[39m=\u001b[39m np\u001b[39m.\u001b[39masscalar(np\u001b[39m.\u001b[39mflatnonzero(S1))\n",
      "File \u001b[0;32m~/sciebo/TH/AML2022-Advanced_machine_learning/code/.condaenv/lib/python3.10/site-packages/rrcf/rrcf.py:180\u001b[0m, in \u001b[0;36mRCTree._mktree\u001b[0;34m(self, X, S, N, I, parent, side, depth)\u001b[0m\n\u001b[1;32m    176\u001b[0m     \u001b[39mself\u001b[39m\u001b[39m.\u001b[39m_mktree(X, S1, N, I, parent\u001b[39m=\u001b[39mbranch, side\u001b[39m=\u001b[39m\u001b[39m'\u001b[39m\u001b[39ml\u001b[39m\u001b[39m'\u001b[39m, depth\u001b[39m=\u001b[39mdepth)\n\u001b[1;32m    177\u001b[0m \u001b[39m# Otherwise...\u001b[39;00m\n\u001b[1;32m    178\u001b[0m \u001b[39melse\u001b[39;00m:\n\u001b[1;32m    179\u001b[0m     \u001b[39m# Create a leaf node from isolated point\u001b[39;00m\n\u001b[0;32m--> 180\u001b[0m     i \u001b[39m=\u001b[39m np\u001b[39m.\u001b[39;49masscalar(np\u001b[39m.\u001b[39mflatnonzero(S1))\n\u001b[1;32m    181\u001b[0m     leaf \u001b[39m=\u001b[39m Leaf(i\u001b[39m=\u001b[39mi, d\u001b[39m=\u001b[39mdepth, u\u001b[39m=\u001b[39mbranch, x\u001b[39m=\u001b[39mX[i, :], n\u001b[39m=\u001b[39mN[i])\n\u001b[1;32m    182\u001b[0m     \u001b[39m# Link leaf node to parent\u001b[39;00m\n",
      "File \u001b[0;32m~/sciebo/TH/AML2022-Advanced_machine_learning/code/.condaenv/lib/python3.10/site-packages/numpy/__init__.py:311\u001b[0m, in \u001b[0;36m__getattr__\u001b[0;34m(attr)\u001b[0m\n\u001b[1;32m    308\u001b[0m     \u001b[39mfrom\u001b[39;00m \u001b[39m.\u001b[39;00m\u001b[39mtesting\u001b[39;00m \u001b[39mimport\u001b[39;00m Tester\n\u001b[1;32m    309\u001b[0m     \u001b[39mreturn\u001b[39;00m Tester\n\u001b[0;32m--> 311\u001b[0m \u001b[39mraise\u001b[39;00m \u001b[39mAttributeError\u001b[39;00m(\u001b[39m\"\u001b[39m\u001b[39mmodule \u001b[39m\u001b[39m{!r}\u001b[39;00m\u001b[39m has no attribute \u001b[39m\u001b[39m\"\u001b[39m\n\u001b[1;32m    312\u001b[0m                      \u001b[39m\"\u001b[39m\u001b[39m{!r}\u001b[39;00m\u001b[39m\"\u001b[39m\u001b[39m.\u001b[39mformat(\u001b[39m__name__\u001b[39m, attr))\n",
      "\u001b[0;31mAttributeError\u001b[0m: module 'numpy' has no attribute 'asscalar'"
     ]
    }
   ],
   "source": [
    "# Seed the tree with zero-mean, and hence normally distributed data points\n",
    "X = np.random.randn(100,2)\n",
    "tree = rrcf.RCTree(X)\n",
    "\n",
    "# Generate one inlier and one outlier point\n",
    "inlier = np.array([0, 0])\n",
    "outlier = np.array([4, 4])\n",
    "\n",
    "# Insert both points into the tree\n",
    "tree.insert_point(inlier, index='inlier')\n",
    "tree.insert_point(outlier, index='outlier')\n",
    "\n",
    "# Ask for their codisp (anomaly) score\n",
    "print(\"tree.codisp('inlier')=\",tree.codisp('inlier'))\n",
    "print(\"tree.codisp('outlier')=\",tree.codisp('outlier'))"
   ]
  },
  {
   "cell_type": "markdown",
   "metadata": {},
   "source": [
    "As a rule of thumb:\n",
    "* scores of max(abs(3 * stdev)) are ok\n",
    "* higher scores are an indication of an outlier."
   ]
  },
  {
   "cell_type": "markdown",
   "metadata": {},
   "source": [
    "### Robust random cut trees (part III)\n",
    "#### Batch anomaly detection\n",
    "This example shows how a robust random cut forest can be used to detect outliers in a batch setting. As you already know, outliers correspond to a larger CoDisp score."
   ]
  },
  {
   "cell_type": "code",
   "execution_count": null,
   "metadata": {},
   "outputs": [],
   "source": [
    "import numpy as np\n",
    "import pandas as pd\n",
    "import rrcf"
   ]
  },
  {
   "cell_type": "code",
   "execution_count": null,
   "metadata": {},
   "outputs": [],
   "source": [
    "'''\n",
    "In order to create a random forest, we simply create a list of RCTrees, \n",
    "with each RCTree constructed from a random sample of the input dataset. \n",
    "Let's create a random forest with 100 trees, each containing 256 points \n",
    "from the original sample.\n",
    "'''\n",
    "# Set parameters\n",
    "np.random.seed(0)\n",
    "n = 2010\n",
    "d = 3\n",
    "num_trees = 100\n",
    "tree_size = 256\n",
    "\n",
    "# Generate a random data set\n",
    "X = np.zeros((n, d))\n",
    "X[:1000,0] = 5\n",
    "X[1000:2000,0] = -5\n",
    "X += 0.01*np.random.randn(*X.shape)\n",
    "\n",
    "print(x)\n",
    "# Construct forest\n",
    "forest = []\n",
    "while len(forest) < num_trees:\n",
    "    # Select random subsets of points uniformly from point set\n",
    "    ixs = np.random.choice(n, size=(n // tree_size, tree_size),\n",
    "                           replace=False)\n",
    "    # Add sampled trees to forest\n",
    "    trees = [rrcf.RCTree(X[ix], index_labels=ix) for ix in ixs]\n",
    "    forest.extend(trees)\n",
    "\n",
    "'''\n",
    "Finally, to determine outliers we compute the average codisp \n",
    "over all trees for each point in the original sample.\n",
    "'''\n",
    "# Compute average CoDisp\n",
    "avg_codisp = pd.Series(0.0, index=np.arange(n))\n",
    "index = np.zeros(n)\n",
    "for tree in forest:\n",
    "    codisp = pd.Series({leaf : tree.codisp(leaf) for leaf in tree.leaves})\n",
    "    avg_codisp[codisp.index] += codisp\n",
    "    np.add.at(index, codisp.index.values, 1)\n",
    "avg_codisp /= index\n",
    "\n",
    "'''Now, print the average codisp for each set of points.'''\n",
    "# for the inlier points:\n",
    "print(\"AVG_codisp[inlier points]=\",round(avg_codisp[:-10].mean(),2))\n",
    "# for the outlier points:\n",
    "print(\"AVG_codisp[outlier points]=\",round(avg_codisp[-10:].mean(),2))"
   ]
  },
  {
   "cell_type": "code",
   "execution_count": null,
   "metadata": {},
   "outputs": [],
   "source": [
    "'''\n",
    "Note that the outlier points again have a larger codisp. \n",
    "To classify the original points into inlier and outlier classes, \n",
    "perform a simple threshold test on the codisp result.\n",
    "'''\n",
    "# For example:\n",
    "print(\"Is outlier?\\n\",avg_codisp > avg_codisp.quantile(0.99))"
   ]
  },
  {
   "cell_type": "markdown",
   "metadata": {},
   "source": [
    "### Robust random cut trees (part IV)\n",
    "#### Streaming anomaly detection\n",
    "This example shows how the algorithm can be used to detect anomalies in streaming time series data."
   ]
  },
  {
   "cell_type": "code",
   "execution_count": null,
   "metadata": {},
   "outputs": [],
   "source": [
    "import numpy as np\n",
    "import rrcf\n",
    "\n",
    "# Generate a data set (sine wave with an anomaly inside)\n",
    "n = 730\n",
    "A = 50\n",
    "center = 100\n",
    "phi = 30\n",
    "T = 2*np.pi/100\n",
    "t = np.arange(n)\n",
    "sin = A*np.sin(T*t-phi*T) + center\n",
    "sin[235:255] = 80\n",
    "\n",
    "# Set tree parameters\n",
    "num_trees = 40\n",
    "shingle_size = 4\n",
    "tree_size = 256\n",
    "\n",
    "# Construct again a forest of empty trees\n",
    "forest = []\n",
    "for _ in range(num_trees):\n",
    "    tree = rrcf.RCTree()\n",
    "    forest.append(tree)\n",
    "\n",
    "# Insert streaming points into tree and compute anomaly score\n",
    "# Use the \"shingle\" generator to create a rolling window\n",
    "points = rrcf.shingle(sin, size=shingle_size)\n",
    "\n",
    "# Create a dict to store anomaly score of each point\n",
    "avg_codisp = {}\n",
    "\n",
    "# For each shingle...\n",
    "for index, point in enumerate(points):\n",
    "    # For each tree in the forest...\n",
    "    for tree in forest:\n",
    "        # If tree is above permitted size, drop the oldest point (FIFO)\n",
    "        if len(tree.leaves) > tree_size:\n",
    "            tree.forget_point(index - tree_size)\n",
    "        # Insert the new point into the tree\n",
    "        tree.insert_point(point, index=index)\n",
    "        # Compute codisp on the new point and take the average among all trees\n",
    "        if not index in avg_codisp:\n",
    "            avg_codisp[index] = 0\n",
    "        avg_codisp[index] += tree.codisp(index) / num_trees"
   ]
  },
  {
   "cell_type": "code",
   "execution_count": null,
   "metadata": {},
   "outputs": [],
   "source": [
    "'''visualize the originil time series and the CoDisp score'''\n",
    "import pandas as pd\n",
    "import matplotlib.pyplot as plt\n",
    "import seaborn as sns\n",
    "\n",
    "fig, ax1 = plt.subplots(figsize=(10, 5))\n",
    "\n",
    "color = 'tab:red'\n",
    "ax1.set_ylabel('data points', color=color, size=14)\n",
    "ax1.plot(sin, color=color)\n",
    "ax1.tick_params(axis='y', labelcolor=color, labelsize=12)\n",
    "ax1.set_ylim(0,160)\n",
    "ax2 = ax1.twinx()\n",
    "color = 'tab:blue'\n",
    "ax2.set_ylabel('CoDisp', color=color, size=14)\n",
    "ax2.plot(pd.Series(avg_codisp).sort_index(), color=color)\n",
    "ax2.tick_params(axis='y', labelcolor=color, labelsize=12)\n",
    "ax2.grid('off')\n",
    "ax2.set_ylim(0, 160)\n",
    "plt.title('Sine wave with injected anomaly (red) and anomaly score (blue)', size=14)\n",
    "plt.show()"
   ]
  },
  {
   "cell_type": "code",
   "execution_count": null,
   "metadata": {},
   "outputs": [],
   "source": []
  },
  {
   "cell_type": "code",
   "execution_count": null,
   "metadata": {},
   "outputs": [],
   "source": []
  }
 ],
 "metadata": {
  "kernelspec": {
   "display_name": "Python 3.10.6 64-bit",
   "language": "python",
   "name": "python3"
  },
  "language_info": {
   "codemirror_mode": {
    "name": "ipython",
    "version": 3
   },
   "file_extension": ".py",
   "mimetype": "text/x-python",
   "name": "python",
   "nbconvert_exporter": "python",
   "pygments_lexer": "ipython3",
   "version": "3.10.6"
  },
  "vscode": {
   "interpreter": {
    "hash": "e7370f93d1d0cde622a1f8e1c04877d8463912d04d973331ad4851f04de6915a"
   }
  }
 },
 "nbformat": 4,
 "nbformat_minor": 5
}
